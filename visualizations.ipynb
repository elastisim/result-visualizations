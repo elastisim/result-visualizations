{
 "cells": [
  {
   "cell_type": "markdown",
   "id": "1d4233de",
   "metadata": {},
   "source": [
    "# Visualizing ElastiSim results"
   ]
  },
  {
   "cell_type": "markdown",
   "id": "055a4031",
   "metadata": {},
   "source": [
    "## Required libraries: [pandas](https://pandas.pydata.org/) and [Plotly](https://plotly.com/)"
   ]
  },
  {
   "cell_type": "code",
   "execution_count": null,
   "id": "f54bace3",
   "metadata": {},
   "outputs": [],
   "source": [
    "import pandas as pd\n",
    "import plotly.express as px"
   ]
  },
  {
   "cell_type": "markdown",
   "id": "0c5f221c",
   "metadata": {},
   "source": [
    "## Visulization functions"
   ]
  },
  {
   "cell_type": "markdown",
   "id": "e9772c4a",
   "metadata": {},
   "source": [
    "### Returns a pandas dataframe containing all jobs and corresponding details\n",
    "\n",
    "*input_path*: path to job statistics file"
   ]
  },
  {
   "cell_type": "code",
   "execution_count": null,
   "id": "b0bcddea",
   "metadata": {},
   "outputs": [],
   "source": [
    "def read_job_statistics(input_path):\n",
    "    job_statistics = pd.read_csv(input_path, index_col='ID')\n",
    "    job_statistics['Submit Time'] = job_statistics['Submit Time'] / 60\n",
    "    job_statistics['Start Time'] = job_statistics['Start Time'] / 60\n",
    "    job_statistics['End Time'] = job_statistics['End Time'] / 60\n",
    "    job_statistics['Wait Time'] = job_statistics['Wait Time'] / 60\n",
    "    job_statistics['Turnaround Time'] = job_statistics['Turnaround Time'] / 60\n",
    "    job_statistics['Makespan'] = job_statistics['Makespan'] / 60\n",
    "    return job_statistics"
   ]
  },
  {
   "cell_type": "markdown",
   "id": "0a6dc20c",
   "metadata": {},
   "source": [
    "### Plots the node utilization as a Gantt chart\n",
    "\n",
    "*input_path*: path to node utilization file\n",
    "\n",
    "*output_path* (optional): path to output image"
   ]
  },
  {
   "cell_type": "code",
   "execution_count": null,
   "id": "43bf83a0",
   "metadata": {},
   "outputs": [],
   "source": [
    "def plot_node_utilization(input_path, indicate_job_ids=False, output_path=False):\n",
    "    node_utilization = pd.read_csv(input_path)\n",
    "    node_utilization['Time'] = node_utilization['Time'] / 60\n",
    "    groups = []\n",
    "    for group in node_utilization.groupby('Node', sort=False):\n",
    "        node_states = group[1].rename(columns={'Time': 'Start Time'})\n",
    "        node_states['End Time'] = node_states.shift(-1)['Start Time']\n",
    "        groups.append(node_states)\n",
    "    node_utilization = pd.concat(groups)\n",
    "\n",
    "    job_ids = node_utilization['Running jobs'].unique()\n",
    "    if indicate_job_ids:\n",
    "        fig = px.timeline(node_utilization, x_start='Start Time', x_end='End Time', y='Node',\n",
    "                          color='Running jobs', color_discrete_sequence=px.colors.qualitative.Alphabet,\n",
    "                          opacity=0.8, labels={\"Node\": \"Compute Node\"}, title='Node Utilization', text='Running jobs')\n",
    "    else:\n",
    "        fig = px.timeline(node_utilization, x_start='Start Time', x_end='End Time', y='Node',\n",
    "                          color='Running jobs', color_discrete_sequence=px.colors.qualitative.Alphabet,\n",
    "                          opacity=0.8, labels={\"Node\": \"Compute Node\"}, title='Node Utilization')\n",
    "    i = 0\n",
    "    for job_id in job_ids:\n",
    "        if job_id == 'none':\n",
    "            i += 1\n",
    "            continue\n",
    "        else:\n",
    "            job_utilization_per_id = node_utilization[node_utilization['Running jobs'] == job_id]\n",
    "            fig.data[i].x = job_utilization_per_id['End Time'] - job_utilization_per_id['Start Time']\n",
    "            i += 1\n",
    "    fig.update_xaxes(type='linear', title='Time (m)')\n",
    "    fig.update_yaxes(autorange='reversed')\n",
    "    fig.update_layout(bargap=0, showlegend=False)\n",
    "    fig.update_traces(marker_line_width=0, textangle=0)\n",
    "    if output_path:\n",
    "        fig.write_image(output_path)\n",
    "    return fig"
   ]
  },
  {
   "cell_type": "markdown",
   "id": "4e2294a3",
   "metadata": {},
   "source": [
    "### Plots the system-wide CPU utilization\n",
    "\n",
    "*input_path*: path to CPU utilization file\n",
    "\n",
    "*start* (optional): start time of the plot in minutes\n",
    "\n",
    "*end* (optional): start time of the plot in minutes\n",
    "\n",
    "*window* (optional): window size of the rolling average (number of data points)\n",
    "\n",
    "*output_path* (optional): path to output image"
   ]
  },
  {
   "cell_type": "code",
   "execution_count": null,
   "id": "682ffd8a",
   "metadata": {},
   "outputs": [],
   "source": [
    "def plot_system_wide_cpu(input_path, start=False, end=False, window=1, output_path=False):\n",
    "    cpu_utilization = pd.read_csv(input_path, index_col='Time')\n",
    "    cpu_utilization.index = cpu_utilization.index / 60\n",
    "    if start:\n",
    "        cpu_utilization = cpu_utilization.loc[cpu_utilization.index >= start].dropna()\n",
    "    if end:\n",
    "        cpu_utilization = cpu_utilization.loc[cpu_utilization.index <= end].dropna()\n",
    "    cpu_utilization = cpu_utilization.sum(axis=1) / len(cpu_utilization.columns)\n",
    "    cpu_utilization *= 100\n",
    "    cpu_utilization = pd.DataFrame({'CPU': cpu_utilization})\n",
    "    if window > 1:\n",
    "        cpu_utilization = cpu_utilization.rolling(window).mean()\n",
    "    fig = px.line(cpu_utilization, labels={\n",
    "        'Time': 'Time (m)',\n",
    "        'value': 'Utilization [%]',\n",
    "    }, title='System-wide CPU Utilization')\n",
    "    fig.update_layout(showlegend=False)\n",
    "    if output_path:\n",
    "        fig.write_image(output_path)\n",
    "    return fig"
   ]
  },
  {
   "cell_type": "markdown",
   "id": "39acac49",
   "metadata": {},
   "source": [
    "### Plots the system-wide network activity\n",
    "\n",
    "*input_path*: path to network activity file\n",
    "\n",
    "*start* (optional): start time of the plot in minutes\n",
    "\n",
    "*end* (optional): start time of the plot in minutes\n",
    "\n",
    "*window* (optional): window size of the rolling average (number of data points)\n",
    "\n",
    "*output_path* (optional): path to output image"
   ]
  },
  {
   "cell_type": "code",
   "execution_count": null,
   "id": "bad3f26b",
   "metadata": {},
   "outputs": [],
   "source": [
    "def plot_network_activity(input_path, start=False, end=False, window=1, output_path=False):\n",
    "    network_activity = pd.read_csv(input_path, index_col='Time')\n",
    "    network_activity.index = network_activity.index / 60\n",
    "    if start:\n",
    "        network_activity = network_activity.loc[network_activity.index >= start].dropna()\n",
    "    if end:\n",
    "        network_activity = network_activity.loc[network_activity.index <= end].dropna()\n",
    "    network_activity *= 100\n",
    "    if window > 1:\n",
    "        network_activity = network_activity.rolling(window).mean()\n",
    "    fig = px.line(network_activity, labels={\n",
    "        'Time': 'Time (m)',\n",
    "        'value': 'Activity [%]'\n",
    "    }, title='Network Activity')\n",
    "    fig.update_layout(showlegend=False)\n",
    "    if output_path:\n",
    "        fig.write_image(output_path)\n",
    "    return fig"
   ]
  },
  {
   "cell_type": "markdown",
   "id": "3e70bd9e",
   "metadata": {},
   "source": [
    "### Plots the PFS utilization\n",
    "\n",
    "*input_path*: path to PFS utilization file\n",
    "\n",
    "*start* (optional): start time of the plot in minutes\n",
    "\n",
    "*end* (optional): start time of the plot in minutes\n",
    "\n",
    "*window* (optional): window size of the rolling average (number of data points)\n",
    "\n",
    "*output_path* (optional): path to output image"
   ]
  },
  {
   "cell_type": "code",
   "execution_count": null,
   "id": "b34e13d3",
   "metadata": {},
   "outputs": [],
   "source": [
    "def plot_pfs_utilization(input_path, start=False, end=False, window=1, output_path=False):\n",
    "    pfs_utilization = pd.read_csv(input_path, index_col='Time')\n",
    "    pfs_utilization.index = pfs_utilization.index / 60\n",
    "    if start:\n",
    "        pfs_utilization = pfs_utilization.loc[pfs_utilization.index >= start].dropna()\n",
    "    if end:\n",
    "        pfs_utilization = pfs_utilization.loc[pfs_utilization.index <= end].dropna()\n",
    "    pfs_utilization['Read'] = pfs_utilization['Read'] / 1024 / 1024 / 1024\n",
    "    pfs_utilization = pfs_utilization.drop(columns=['Read (rel.)', 'Write (rel.)'])\n",
    "    if window > 1:\n",
    "        pfs_utilization['Read'] = pfs_utilization['Read'].rolling(window).mean()\n",
    "    pfs_utilization['Write'] = pfs_utilization['Write'] / 1024 / 1024 / 1024\n",
    "    if window > 1:\n",
    "        pfs_utilization['Write'] = pfs_utilization['Write'].rolling(window).mean()\n",
    "    fig = px.line(pfs_utilization, labels={\n",
    "        'Time': 'Time (m)',\n",
    "        'value': 'Bandwidth [GiB/s]',\n",
    "        'variable': 'Link'\n",
    "    }, title='PFS Utilization')\n",
    "    if output_path:\n",
    "        fig.write_image(output_path)\n",
    "    return fig"
   ]
  },
  {
   "cell_type": "markdown",
   "id": "79f9b363",
   "metadata": {},
   "source": [
    "### Plots a joint utilization plot comprising CPU utilization, network activity, and PFS utilization\n",
    "\n",
    "*cpu_utilization_path*: path to CPU utilization file\n",
    "\n",
    "*network_activity_path*: path to network activity file\n",
    "\n",
    "*pfs_utilization_path*: path to PFS utilization file\n",
    "\n",
    "*start* (optional): start time of the plot in minutes\n",
    "\n",
    "*end* (optional): start time of the plot in minutes\n",
    "\n",
    "*window* (optional): window size of the rolling average (number of data points)\n",
    "\n",
    "*output_path* (optional): path to output image"
   ]
  },
  {
   "cell_type": "code",
   "execution_count": null,
   "id": "35761677",
   "metadata": {},
   "outputs": [],
   "source": [
    "def plot_utilization(cpu_utilization_path, network_activity_path, pfs_utilization_path, start=False, end=False,\n",
    "                     window=1, output_path=False):\n",
    "    cpu_utilization = pd.read_csv(cpu_utilization_path, index_col='Time')\n",
    "    cpu_utilization.index = cpu_utilization.index / 60\n",
    "    network_activity = pd.read_csv(network_activity_path, index_col='Time')\n",
    "    network_activity.index = network_activity.index / 60\n",
    "    pfs_utilization = pd.read_csv(pfs_utilization_path, index_col='Time')\n",
    "    pfs_utilization.index = pfs_utilization.index / 60\n",
    "\n",
    "    if start:\n",
    "        cpu_utilization = cpu_utilization.loc[cpu_utilization.index >= start].dropna()\n",
    "        network_activity = network_activity.loc[network_activity.index >= start].dropna()\n",
    "        pfs_utilization = pfs_utilization.loc[pfs_utilization.index >= start].dropna()\n",
    "    if end:\n",
    "        cpu_utilization = cpu_utilization.loc[cpu_utilization.index <= end].dropna()\n",
    "        network_activity = network_activity.loc[network_activity.index <= end].dropna()\n",
    "        pfs_utilization = pfs_utilization.loc[pfs_utilization.index <= end].dropna()\n",
    "\n",
    "    cpu_utilization = cpu_utilization.sum(axis=1) / len(cpu_utilization.columns)\n",
    "    cpu_utilization = pd.DataFrame({'CPU': cpu_utilization})\n",
    "\n",
    "    network_activity = network_activity.rename(columns={'Utilization': 'Network'})\n",
    "\n",
    "    pfs_utilization = pfs_utilization.drop(columns=['Read', 'Write'])\n",
    "    pfs_utilization = pfs_utilization.rename(columns={'Read (rel.)': 'PFS Read'})\n",
    "    pfs_utilization = pfs_utilization.rename(columns={'Write (rel.)': 'PFS Write'})\n",
    "\n",
    "    utilization = pd.concat([cpu_utilization, network_activity, pfs_utilization], axis=1)\n",
    "    utilization = utilization * 100\n",
    "    if window > 1:\n",
    "        utilization['CPU'] = utilization['CPU'].rolling(window).mean()\n",
    "        utilization['Network'] = utilization['Network'].rolling(window).mean()\n",
    "        utilization['PFS Read'] = utilization['PFS Read'].rolling(window).mean()\n",
    "        utilization['PFS Write'] = utilization['PFS Write'].rolling(window).mean()\n",
    "\n",
    "    fig = px.line(utilization, labels={\n",
    "        'Time': 'Time (m)',\n",
    "        'value': 'Utilization [%]',\n",
    "        'variable': 'Resource'\n",
    "    }, title='System Utilization')\n",
    "    if output_path:\n",
    "        fig.write_image(output_path)\n",
    "    return fig"
   ]
  },
  {
   "cell_type": "markdown",
   "id": "52f2591d",
   "metadata": {},
   "source": [
    "### Plots a Gantt chart of running and waiting jobs\n",
    "\n",
    "*input_path*: path to job statistics file\n",
    "\n",
    "*output_path* (optional): path to output image"
   ]
  },
  {
   "cell_type": "code",
   "execution_count": null,
   "id": "8166b425",
   "metadata": {},
   "outputs": [],
   "source": [
    "def plot_jobs_gantt(input_path, output_path=False):\n",
    "    job_statistics = read_job_statistics(input_path)\n",
    "    job_statistics['Job State'] = 'running'\n",
    "    waiting_times = job_statistics.copy()\n",
    "    waiting_times['Job State'] = 'waiting'\n",
    "    waiting_times['Start Time'] = job_statistics['Submit Time']\n",
    "    waiting_times['End Time'] = job_statistics['Start Time']\n",
    "    waiting_times['Makespan'] = job_statistics['Wait Time']\n",
    "    job_statistics = job_statistics.drop(columns=['Submit Time', 'Wait Time', 'Turnaround Time', 'Status'])\n",
    "    waiting_times = waiting_times.drop(columns=['Submit Time', 'Wait Time', 'Turnaround Time', 'Status'])\n",
    "    job_statistics = pd.concat([job_statistics, waiting_times])\n",
    "\n",
    "    fig = px.timeline(job_statistics, x_start='Start Time', x_end='End Time', y=job_statistics.index, color='Job State',\n",
    "                      title='Job Runtimes')\n",
    "    fig.data[0].x = job_statistics['Makespan'].iloc[:len(job_statistics) // 2]\n",
    "    fig.data[1].x = job_statistics['Makespan'].iloc[len(job_statistics) // 2:]\n",
    "    fig.data[1].opacity = 0.5\n",
    "    fig.update_xaxes(type='linear', title='Time (m)')\n",
    "    fig.update_yaxes(autorange=\"reversed\")\n",
    "    fig.update_layout(bargap=0, legend={'bgcolor': 'rgba(255,255,255,0.2)'})\n",
    "    fig.update_traces(marker_line_width=0)\n",
    "    if output_path:\n",
    "        fig.write_image(output_path)\n",
    "    return fig"
   ]
  },
  {
   "cell_type": "markdown",
   "id": "8f1a199e",
   "metadata": {},
   "source": [
    "### Plots a box plot comprising the waiting time, makespan, and turnaround time\n",
    "\n",
    "*input_path*: path to job statistics file\n",
    "\n",
    "*output_path* (optional): path to output image"
   ]
  },
  {
   "cell_type": "code",
   "execution_count": null,
   "id": "1261342a",
   "metadata": {},
   "outputs": [],
   "source": [
    "def plot_jobs_box(input_path, output_path=False):\n",
    "    job_statistics = read_job_statistics(input_path)\n",
    "    fig = px.box(job_statistics.drop(columns=['Type', 'Submit Time', 'Start Time', 'End Time', 'Status']), labels={\n",
    "        'value': 'Time (m)',\n",
    "        'variable': 'Variable'\n",
    "    })\n",
    "    if output_path:\n",
    "        fig.write_image(output_path)\n",
    "    return fig"
   ]
  },
  {
   "cell_type": "markdown",
   "id": "b71e4b48",
   "metadata": {},
   "source": [
    "### Plots a violin plot comprising the waiting time, makespan, and turnaround time\n",
    "\n",
    "*input_path*: path to job statistics file\n",
    "\n",
    "*output_path* (optional): path to output image"
   ]
  },
  {
   "cell_type": "code",
   "execution_count": null,
   "id": "106ff580",
   "metadata": {},
   "outputs": [],
   "source": [
    "def plot_jobs_violin(input_path, output_path=False):\n",
    "    job_statistics = read_job_statistics(input_path)\n",
    "    fig = px.violin(job_statistics.drop(columns=['Type', 'Submit Time', 'Start Time', 'End Time', 'Status']), box=True,\n",
    "                    labels={\n",
    "                        'value': 'Time (m)',\n",
    "                        'variable': 'Variable'\n",
    "                    })\n",
    "    if output_path:\n",
    "        fig.write_image(output_path)\n",
    "    return fig"
   ]
  },
  {
   "cell_type": "markdown",
   "id": "60b81e31",
   "metadata": {},
   "source": [
    "## Example usage"
   ]
  },
  {
   "cell_type": "code",
   "execution_count": null,
   "id": "d101e0fc",
   "metadata": {},
   "outputs": [],
   "source": [
    "import os"
   ]
  },
  {
   "cell_type": "markdown",
   "id": "31122560",
   "metadata": {},
   "source": [
    "Note: replace *output_dir*"
   ]
  },
  {
   "cell_type": "code",
   "execution_count": null,
   "id": "9f4b362c",
   "metadata": {},
   "outputs": [],
   "source": [
    "output_dir = '/path/to/example-project/data/output'"
   ]
  },
  {
   "cell_type": "code",
   "execution_count": null,
   "id": "3809e394",
   "metadata": {},
   "outputs": [],
   "source": [
    "plot_node_utilization(os.path.join(output_dir, 'node_utilization.csv'))"
   ]
  },
  {
   "cell_type": "code",
   "execution_count": null,
   "id": "0a82dbfd",
   "metadata": {
    "scrolled": false
   },
   "outputs": [],
   "source": [
    "plot_system_wide_cpu(os.path.join(output_dir, 'cpu_utilization.csv'), window=200)"
   ]
  },
  {
   "cell_type": "code",
   "execution_count": null,
   "id": "caed51d4",
   "metadata": {
    "scrolled": false
   },
   "outputs": [],
   "source": [
    "plot_network_activity(os.path.join(output_dir, 'network_activity.csv'), window=200)"
   ]
  },
  {
   "cell_type": "code",
   "execution_count": null,
   "id": "8670b1ea",
   "metadata": {},
   "outputs": [],
   "source": [
    "plot_pfs_utilization(os.path.join(output_dir, 'pfs_utilization.csv'), window=200)"
   ]
  },
  {
   "cell_type": "code",
   "execution_count": null,
   "id": "61624bcc",
   "metadata": {},
   "outputs": [],
   "source": [
    "plot_utilization(os.path.join(output_dir, 'cpu_utilization.csv'),\n",
    "                 os.path.join(output_dir, 'network_activity.csv'),\n",
    "                 os.path.join(output_dir, 'pfs_utilization.csv'),\n",
    "                 window=200)"
   ]
  },
  {
   "cell_type": "code",
   "execution_count": null,
   "id": "f4130455",
   "metadata": {},
   "outputs": [],
   "source": [
    "plot_jobs_gantt(os.path.join(output_dir, 'job_statistics.csv'))"
   ]
  },
  {
   "cell_type": "code",
   "execution_count": null,
   "id": "400f6b93",
   "metadata": {},
   "outputs": [],
   "source": [
    "plot_jobs_box(os.path.join(output_dir, 'job_statistics.csv'))"
   ]
  },
  {
   "cell_type": "code",
   "execution_count": null,
   "id": "490731ef",
   "metadata": {},
   "outputs": [],
   "source": [
    "plot_jobs_violin(os.path.join(output_dir, 'job_statistics.csv'))"
   ]
  }
 ],
 "metadata": {
  "kernelspec": {
   "display_name": "Python 3 (ipykernel)",
   "language": "python",
   "name": "python3"
  },
  "language_info": {
   "codemirror_mode": {
    "name": "ipython",
    "version": 3
   },
   "file_extension": ".py",
   "mimetype": "text/x-python",
   "name": "python",
   "nbconvert_exporter": "python",
   "pygments_lexer": "ipython3",
   "version": "3.9.15"
  }
 },
 "nbformat": 4,
 "nbformat_minor": 5
}
